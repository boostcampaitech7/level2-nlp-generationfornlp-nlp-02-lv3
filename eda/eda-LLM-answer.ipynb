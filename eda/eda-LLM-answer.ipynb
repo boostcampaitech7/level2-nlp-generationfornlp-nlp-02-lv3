{
 "cells": [
  {
   "cell_type": "code",
   "id": "initial_id",
   "metadata": {
    "collapsed": true,
    "ExecuteTime": {
     "end_time": "2024-11-14T06:15:06.571109Z",
     "start_time": "2024-11-14T06:15:02.810779Z"
    }
   },
   "source": [
    "import pandas as pd\n",
    "import ast\n",
    "import matplotlib.pyplot as plt\n",
    "from matplotlib_venn import venn3\n",
    "from transformers.testing_utils import torch_device"
   ],
   "outputs": [],
   "execution_count": 1
  },
  {
   "metadata": {
    "ExecuteTime": {
     "end_time": "2024-11-14T06:21:32.335921Z",
     "start_time": "2024-11-14T06:21:32.323921Z"
    }
   },
   "cell_type": "code",
   "source": [
    "def calculate_accuracy(model):\n",
    "    \"\"\"특정 모델에 대한 정확도를 계산하고 출력합니다.\"\"\"\n",
    "    df = pd.read_csv(f\"../data/train_add-{model}-answer.csv\")\n",
    "    df[\"original_answer\"] = df[\"problems\"].apply(lambda x: ast.literal_eval(x)[\"answer\"])\n",
    "    df[\"is_correct\"] = df[\"original_answer\"].astype(str) == df[f\"{model}_answer\"].astype(str)\n",
    "    correct_count = df[\"is_correct\"].sum()\n",
    "    total_count = len(df)\n",
    "    accuracy = correct_count / total_count * 100\n",
    "    print(f\"Model: {model}\\nTotal Questions: {total_count}\\nCorrect Answers: {correct_count}\\nAccuracy: {accuracy:.2f}%\\n\")\n",
    "\n",
    "def calculate_accuracy_and_errors(model):\n",
    "    \"\"\"특정 모델에 대한 오답 데이터프레임을 반환합니다.\"\"\"\n",
    "    df = pd.read_csv(f\"../data/train_add-{model}-answer.csv\")\n",
    "    df[\"original_answer\"] = df[\"problems\"].apply(lambda x: ast.literal_eval(x)[\"answer\"])\n",
    "    df[\"is_correct\"] = df[\"original_answer\"].astype(str) == df[f\"{model}_answer\"].astype(str)\n",
    "    errors_df = df[~df[\"is_correct\"]].copy()\n",
    "    errors_df[f\"{model}_answer\"] = df[f\"{model}_answer\"]\n",
    "    return errors_df[[\"id\", \"original_answer\", f\"{model}_answer\"]]\n",
    "\n",
    "def save_filtered_data(errors_df_list, min_models_incorrect, output_filename):\n",
    "    \"\"\"특정 모델 수 이상이 틀린 문제를 제외하고 데이터를 저장하며 통계를 출력합니다.\"\"\"\n",
    "    train_df = pd.read_csv(\"../data/train.csv\")\n",
    "    total_count = len(train_df)\n",
    "\n",
    "    # 각 모델의 오답을 하나의 데이터프레임으로 결합하고, ID별로 오답 횟수를 계산\n",
    "    all_errors = pd.concat([errors_df[[\"id\", \"original_answer\"]] for errors_df in errors_df_list])\n",
    "    error_counts = all_errors.groupby(\"id\").size()\n",
    "\n",
    "    # 지정된 모델 수 이상이 틀린 문제의 ID만 선택\n",
    "    if min_models_incorrect == len(errors_df_list):\n",
    "        condition_text = \"모든 모델이 틀린 문제\"\n",
    "    else:\n",
    "        condition_text = f\"{min_models_incorrect}개 이상의 모델이 틀린 문제\"\n",
    "    exclude_ids = error_counts[error_counts >= min_models_incorrect].index\n",
    "\n",
    "    # 조건에 해당하는 문제를 제외하고 데이터 필터링\n",
    "    filtered_df = train_df[~train_df[\"id\"].isin(exclude_ids)]\n",
    "    filtered_count = len(filtered_df)\n",
    "    excluded_count = len(exclude_ids)\n",
    "\n",
    "    # 결과 저장 및 출력\n",
    "    filtered_df.to_csv(f\"../data/{output_filename}\", index=False)\n",
    "    print(f\"조건: {condition_text} 제외\")\n",
    "    print(f\"전체 문제 수: {total_count}\")\n",
    "    print(f\"제외된 문제 수: {excluded_count}\")\n",
    "    print(f\"저장된 문제 수: {filtered_count}\")\n",
    "    print(f\"필터링된 데이터가 {output_filename} 파일에 저장되었습니다.\\n\")"
   ],
   "id": "ba58b2e2c9534e8f",
   "outputs": [],
   "execution_count": 10
  },
  {
   "metadata": {
    "ExecuteTime": {
     "end_time": "2024-11-14T06:15:49.338234Z",
     "start_time": "2024-11-14T06:15:49.105206Z"
    }
   },
   "cell_type": "code",
   "source": [
    "calculate_accuracy(\"gpt-3.5-turbo\")\n",
    "calculate_accuracy(\"gpt-4o\")\n",
    "calculate_accuracy(\"gpt-4o-mini\")"
   ],
   "id": "dfaa5db015f327c6",
   "outputs": [
    {
     "name": "stdout",
     "output_type": "stream",
     "text": [
      "Model: gpt-3.5-turbo\n",
      "Total Questions: 2031\n",
      "Correct Answers: 1530\n",
      "Accuracy: 75.33%\n",
      "\n",
      "Model: gpt-4o\n",
      "Total Questions: 2031\n",
      "Correct Answers: 1841\n",
      "Accuracy: 90.65%\n",
      "\n",
      "Model: gpt-4o-mini\n",
      "Total Questions: 2031\n",
      "Correct Answers: 1788\n",
      "Accuracy: 88.04%\n",
      "\n"
     ]
    }
   ],
   "execution_count": 5
  },
  {
   "metadata": {
    "ExecuteTime": {
     "end_time": "2024-11-14T06:16:02.221534Z",
     "start_time": "2024-11-14T06:16:01.974302Z"
    }
   },
   "cell_type": "code",
   "source": [
    "errors_gpt3 = calculate_accuracy_and_errors(\"gpt-3.5-turbo\")\n",
    "errors_gpt4 = calculate_accuracy_and_errors(\"gpt-4o\")\n",
    "errors_gpt4_mini = calculate_accuracy_and_errors(\"gpt-4o-mini\")"
   ],
   "id": "abe3514e90621461",
   "outputs": [],
   "execution_count": 6
  },
  {
   "metadata": {
    "ExecuteTime": {
     "end_time": "2024-11-14T06:16:16.760665Z",
     "start_time": "2024-11-14T06:16:16.413634Z"
    }
   },
   "cell_type": "code",
   "source": [
    "# 개별 오답 개수\n",
    "gpt3_errors_count = len(errors_gpt3)\n",
    "gpt4_errors_count = len(errors_gpt4)\n",
    "gpt4_mini_errors_count = len(errors_gpt4_mini)\n",
    "\n",
    "# 모델 간 겹치는 오답 계산\n",
    "gpt3_gpt4_overlap_df = errors_gpt3.merge(errors_gpt4, on=[\"id\", \"original_answer\"], how=\"inner\",\n",
    "                                         suffixes=(\"_gpt3\", \"_gpt4\"))\n",
    "gpt3_gpt4_mini_overlap_df = errors_gpt3.merge(errors_gpt4_mini, on=[\"id\", \"original_answer\"], how=\"inner\",\n",
    "                                              suffixes=(\"_gpt3\", \"_gpt4_mini\"))\n",
    "gpt4_gpt4_mini_overlap_df = errors_gpt4.merge(errors_gpt4_mini, on=[\"id\", \"original_answer\"], how=\"inner\",\n",
    "                                              suffixes=(\"_gpt4\", \"_gpt4_mini\"))\n",
    "all_overlap_df = gpt3_gpt4_overlap_df.merge(errors_gpt4_mini, on=[\"id\", \"original_answer\"], how=\"inner\")\n",
    "\n",
    "# 겹치는 오답 개수\n",
    "gpt3_gpt4_overlap = len(gpt3_gpt4_overlap_df)\n",
    "gpt3_gpt4_mini_overlap = len(gpt3_gpt4_mini_overlap_df)\n",
    "gpt4_gpt4_mini_overlap = len(gpt4_gpt4_mini_overlap_df)\n",
    "all_overlap = len(all_overlap_df)\n",
    "\n",
    "plt.figure(figsize=(8, 6))\n",
    "venn = venn3(subsets=(\n",
    "    gpt3_errors_count - gpt3_gpt4_overlap - gpt3_gpt4_mini_overlap + all_overlap,  # GPT-3.5-turbo만 틀린 문제 수\n",
    "    gpt4_errors_count - gpt3_gpt4_overlap - gpt4_gpt4_mini_overlap + all_overlap,  # GPT-4o만 틀린 문제 수\n",
    "    gpt3_gpt4_overlap - all_overlap,  # GPT-3.5-turbo와 GPT-4o가 둘 다 틀린 문제 수\n",
    "    gpt4_mini_errors_count - gpt3_gpt4_mini_overlap - gpt4_gpt4_mini_overlap + all_overlap,  # GPT-4o-mini만 틀린 문제 수\n",
    "    gpt3_gpt4_mini_overlap - all_overlap,  # GPT-3.5-turbo와 GPT-4o-mini가 둘 다 틀린 문제 수\n",
    "    gpt4_gpt4_mini_overlap - all_overlap,  # GPT-4o와 GPT-4o-mini가 둘 다 틀린 문제 수\n",
    "    all_overlap  # 세 모델 모두 틀린 문제 수\n",
    "), set_labels=(\"GPT-3.5-turbo\", \"GPT-4o\", \"GPT-4o-mini\"))\n",
    "plt.title(\"Venn Diagram of Overlapping Errors in Model Predictions\")\n",
    "plt.savefig(\"../data/model_errors_venn_diagram.png\", format=\"png\", dpi=300)\n",
    "plt.show()"
   ],
   "id": "42154cf2c3c039d1",
   "outputs": [
    {
     "data": {
      "text/plain": [
       "<Figure size 800x600 with 1 Axes>"
      ],
      "image/png": "[encoded data removed]"
     },
     "metadata": {},
     "output_type": "display_data"
    }
   ],
   "execution_count": 7
  },
  {
   "metadata": {
    "ExecuteTime": {
     "end_time": "2024-11-14T06:21:47.368891Z",
     "start_time": "2024-11-14T06:21:47.206839Z"
    }
   },
   "cell_type": "code",
   "source": [
    "# 모든 모델이 틀린 문제를 제외하고 저장\n",
    "save_filtered_data([errors_gpt3, errors_gpt4, errors_gpt4_mini], min_models_incorrect=3, output_filename=\"no_all_errors.csv\")\n",
    "\n",
    "# 두 개 이상의 모델이 틀린 문제를 제외하고 저장\n",
    "save_filtered_data([errors_gpt3, errors_gpt4, errors_gpt4_mini], min_models_incorrect=2, output_filename=\"no_two_or_more_errors.csv\")"
   ],
   "id": "f9637e0060ed201f",
   "outputs": [
    {
     "name": "stdout",
     "output_type": "stream",
     "text": [
      "조건: 모든 모델이 틀린 문제 제외\n",
      "전체 문제 수: 2031\n",
      "제외된 문제 수: 89\n",
      "저장된 문제 수: 1942\n",
      "필터링된 데이터가 no_all_errors.csv 파일에 저장되었습니다.\n",
      "\n",
      "조건: 2개 이상의 모델이 틀린 문제 제외\n",
      "전체 문제 수: 2031\n",
      "제외된 문제 수: 248\n",
      "저장된 문제 수: 1783\n",
      "필터링된 데이터가 no_two_or_more_errors.csv 파일에 저장되었습니다.\n",
      "\n"
     ]
    }
   ],
   "execution_count": 11
  },
  {
   "metadata": {
    "ExecuteTime": {
     "end_time": "2024-11-18T05:42:27.362672Z",
     "start_time": "2024-11-18T05:42:27.356674Z"
    }
   },
   "cell_type": "code",
   "source": "",
   "id": "bdf9880546ebb7cd",
   "outputs": [],
   "execution_count": null
  },
  {
   "metadata": {},
   "cell_type": "code",
   "outputs": [],
   "execution_count": null,
   "source": "    ",
   "id": "b958be87437c037b"
  }
 ],
 "metadata": {
  "kernelspec": {
   "display_name": "Python 3",
   "language": "python",
   "name": "python3"
  },
  "language_info": {
   "codemirror_mode": {
    "name": "ipython",
    "version": 2
   },
   "file_extension": ".py",
   "mimetype": "text/x-python",
   "name": "python",
   "nbconvert_exporter": "python",
   "pygments_lexer": "ipython2",
   "version": "2.7.6"
  }
 },
 "nbformat": 4,
 "nbformat_minor": 5
}
